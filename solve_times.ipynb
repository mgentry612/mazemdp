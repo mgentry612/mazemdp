{
 "cells": [
  {
   "cell_type": "code",
   "execution_count": 34,
   "metadata": {
    "collapsed": true
   },
   "outputs": [],
   "source": [
    "import timeit\n",
    "import numpy as np\n",
    "import matplotlib.pyplot as plt\n",
    "import seaborn as sns"
   ]
  },
  {
   "cell_type": "code",
   "execution_count": 23,
   "metadata": {
    "collapsed": true
   },
   "outputs": [],
   "source": [
    "gridsizes = range(3, 50, 2)\n",
    "solvers = ('policy_iteration', 'value_iteration')\n",
    "module = {'policy_iteration': 'policyiteration',\n",
    "          'value_iteration': 'valueiteration'}\n",
    "\n",
    "average_solvetimes = []\n",
    "\n",
    "for solver in solvers:\n",
    "\n",
    "    benchmarks = []\n",
    "\n",
    "    for gridsize in gridsizes:\n",
    "\n",
    "        statement = '%s.%s(test_mdp, .9)' % (module[solver], solver)\n",
    "\n",
    "        setup = \"\"\"\n",
    "import AldousBroder\n",
    "import %s\n",
    "test_maze = AldousBroder.AldousBroder(w=%s, h=%s).generate()\n",
    "test_mdp = AldousBroder.maze_to_mdp(test_maze)\n",
    "        \"\"\" % (module[solver], gridsize, gridsize)\n",
    "\n",
    "        solve_times = []\n",
    "\n",
    "        for _ in range(0, 25):\n",
    "            solve_times.append(timeit.timeit(statement, setup=setup, number=1))\n",
    "\n",
    "        benchmarks.append(solve_times)\n",
    "\n",
    "    average_solvetimes.append([np.mean(times) for times in benchmarks])"
   ]
  },
  {
   "cell_type": "code",
   "execution_count": 1,
   "metadata": {},
   "outputs": [
    {
     "ename": "NameError",
     "evalue": "name 'sns' is not defined",
     "output_type": "error",
     "traceback": [
      "\u001b[1;31m---------------------------------------------------------------------------\u001b[0m",
      "\u001b[1;31mNameError\u001b[0m                                 Traceback (most recent call last)",
      "\u001b[1;32m<ipython-input-1-a3946ebdf1b6>\u001b[0m in \u001b[0;36m<module>\u001b[1;34m()\u001b[0m\n\u001b[0;32m      1\u001b[0m \u001b[1;31m# plotting\u001b[0m\u001b[1;33m\u001b[0m\u001b[1;33m\u001b[0m\u001b[0m\n\u001b[0;32m      2\u001b[0m \u001b[1;33m\u001b[0m\u001b[0m\n\u001b[1;32m----> 3\u001b[1;33m sns.set('talk', 'whitegrid', 'dark', font_scale=1, font='Arial',\n\u001b[0m\u001b[0;32m      4\u001b[0m         rc={\"lines.linewidth\": 2, 'grid.linestyle': '--'})\n\u001b[0;32m      5\u001b[0m \u001b[1;33m\u001b[0m\u001b[0m\n",
      "\u001b[1;31mNameError\u001b[0m: name 'sns' is not defined"
     ]
    }
   ],
   "source": [
    "# plotting\n",
    "\n",
    "sns.set('talk', 'whitegrid', 'dark', font_scale=1, font='Arial',\n",
    "        rc={\"lines.linewidth\": 2, 'grid.linestyle': '--'})\n",
    "\n",
    "plt.figure(figsize = [18,15])\n",
    "\n",
    "plt.plot(np.multiply(gridsizes, 2), average_solvetimes[0], c='teal', label='Policy Iteration')\n",
    "plt.plot(np.multiply(gridsizes, 2), average_solvetimes[1], c='darkorange', label='Value Iteration')\n",
    "\n",
    "\n",
    "plt.xlabel(\"Grid Size (side length)\")\n",
    "plt.ylabel('Average Solve Time (seconds)')\n",
    "plt.title(\"MDP Solve Time over Grid Size\")\n",
    "plt.legend(loc=\"upper left\")\n",
    "plt.show()"
   ]
  }
 ],
 "metadata": {
  "kernelspec": {
   "display_name": "Python 3",
   "language": "python",
   "name": "python3"
  },
  "language_info": {
   "codemirror_mode": {
    "name": "ipython",
    "version": 3
   },
   "file_extension": ".py",
   "mimetype": "text/x-python",
   "name": "python",
   "nbconvert_exporter": "python",
   "pygments_lexer": "ipython3",
   "version": "3.6.3"
  },
  "varInspector": {
   "cols": {
    "lenName": 16,
    "lenType": 16,
    "lenVar": 40
   },
   "kernels_config": {
    "python": {
     "delete_cmd_postfix": "",
     "delete_cmd_prefix": "del ",
     "library": "var_list.py",
     "varRefreshCmd": "print(var_dic_list())"
    },
    "r": {
     "delete_cmd_postfix": ") ",
     "delete_cmd_prefix": "rm(",
     "library": "var_list.r",
     "varRefreshCmd": "cat(var_dic_list()) "
    }
   },
   "types_to_exclude": [
    "module",
    "function",
    "builtin_function_or_method",
    "instance",
    "_Feature"
   ],
   "window_display": false
  }
 },
 "nbformat": 4,
 "nbformat_minor": 2
}
